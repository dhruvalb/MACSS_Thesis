{
 "cells": [
  {
   "cell_type": "code",
   "execution_count": 15,
   "metadata": {},
   "outputs": [],
   "source": [
    "import pandas as pd\n",
    "import matplotlib.pyplot as plt\n",
    "from functools import reduce\n",
    "import os"
   ]
  },
  {
   "cell_type": "markdown",
   "metadata": {},
   "source": [
    "## Load all Excel Files"
   ]
  },
  {
   "cell_type": "code",
   "execution_count": 16,
   "metadata": {},
   "outputs": [],
   "source": [
    "#Define Metropolitan Areas\n",
    "MMA = dict()\n",
    "\n",
    "MMA = {'Ibaraki-ken': 'Kanto', 'Tochigi-ken': 'Kanto', 'Gumma-ken': 'Kanto', 'Saitama-ken': 'Kanto', 'Chiba-ken': 'Kanto', 'Tokyo-to': 'Kanto', 'Kanagawa-ken': 'Kanto', 'Yamanashi-ken': 'Kanto',\n",
    "      'Shiga-ken': 'Keihanshin', 'Kyoto-fu': 'Keihanshin', 'Osaka-fu': 'Keihanshin', 'Hyogo-ken': 'Keihanshin', 'Nara-ken': 'Keihanshin', 'Wakayama-ken': 'Keihanshin', \n",
    "      'Aichi-ken': 'Chukyo', 'Mie-ken': 'Chukyo', 'Gifu-ken': 'Chukyo', \n",
    "      'Fukuoka-ken': 'Fukuoka Kitakyushu', \n",
    "      'Shizuoka-ken': 'Shizuoka Hamamatsu', \n",
    "      'Hokkaido': 'Sappora', \n",
    "      'Miyagi-ken': 'Sendai', \n",
    "      'Hiroshima-ken': 'Hiroshima', \n",
    "      'Okayama-ken': 'Okayama', \n",
    "      'Kumamoto-ken': 'Kumamoto', \n",
    "      'Niigata-ken': 'Niigata'}"
   ]
  },
  {
   "cell_type": "code",
   "execution_count": 17,
   "metadata": {},
   "outputs": [],
   "source": [
    "pop_df = pd.read_excel(r\"C:\\Users\\Dhruval\\Documents\\MACSS\\MA Thesis\\Aging in Japan\\Data\\Population_Household.xls\", header=[0,1])\n",
    "admb_df = pd.read_excel(r\"C:\\Users\\Dhruval\\Documents\\MACSS\\MA Thesis\\Aging in Japan\\Data\\Administrative_Base.xls\", header=[0,1])\n",
    "ecnb_df = pd.read_excel(r\"C:\\Users\\Dhruval\\Documents\\MACSS\\MA Thesis\\Aging in Japan\\Data\\Economic_Base.xls\", header=[0,1])\n",
    "lab_df = pd.read_excel(r\"C:\\Users\\Dhruval\\Documents\\MACSS\\MA Thesis\\Aging in Japan\\Data\\Labour.xls\", header=[0,1])\n",
    "dwell_df= pd.read_excel(r\"C:\\Users\\Dhruval\\Documents\\MACSS\\MA Thesis\\Aging in Japan\\Data\\Dwelling.xls\", header=[0,1])\n",
    "edu_df = pd.read_excel(r\"C:\\Users\\Dhruval\\Documents\\MACSS\\MA Thesis\\Aging in Japan\\Data\\Education.xls\", header=[0,1])\n",
    "dt_df = pd.read_excel(r\"C:\\Users\\Dhruval\\Documents\\MACSS\\MA Thesis\\Aging in Japan\\Data\\Daily Time.xls\", header=[0,1])\n",
    "nature_df = pd.read_excel(r\"C:\\Users\\Dhruval\\Documents\\MACSS\\MA Thesis\\Aging in Japan\\Data\\Natural Environment.xls\", header=[0,1])\n",
    "wfss_df = pd.read_excel(r\"C:\\Users\\Dhruval\\Documents\\MACSS\\MA Thesis\\Aging in Japan\\Data\\Welfare and Social Security.xls\", header=[0,1])\n",
    "hmc_df = pd.read_excel(r\"C:\\Users\\Dhruval\\Documents\\MACSS\\MA Thesis\\Aging in Japan\\Data\\Health and Medical Care.xls\", header=[0,1])\n",
    "fb_df = pd.read_excel(r\"C:\\Users\\Dhruval\\Documents\\MACSS\\MA Thesis\\Aging in Japan\\Data\\Family Budget.xls\", header=[0,1])\n",
    "safe_df = pd.read_excel(r\"C:\\Users\\Dhruval\\Documents\\MACSS\\MA Thesis\\Aging in Japan\\Data\\Safety.xls\", header=[0,1])\n",
    "cas_df = pd.read_excel(r\"C:\\Users\\Dhruval\\Documents\\MACSS\\MA Thesis\\Aging in Japan\\Data\\Culture and Sports.xls\", header=[0,1])\n",
    "\n",
    "all_df = [pop_df, nature_df, lab_df, ecnb_df, admb_df, edu_df, cas_df, hmc_df, wfss_df, fb_df, dt_df, dwell_df]"
   ]
  },
  {
   "cell_type": "code",
   "execution_count": 18,
   "metadata": {},
   "outputs": [
    {
     "data": {
      "text/plain": [
       "Text(0.5,1,'Distribution of Variables by Social Indicator Topics')"
      ]
     },
     "execution_count": 18,
     "metadata": {},
     "output_type": "execute_result"
    },
    {
     "data": {
      "image/png": "[encoded data removed]",
      "text/plain": [
       "<Figure size 432x288 with 1 Axes>"
      ]
     },
     "metadata": {
      "needs_background": "light"
     },
     "output_type": "display_data"
    }
   ],
   "source": [
    "def var_count(df):\n",
    "    var = list(df.columns.get_level_values(0).unique())\n",
    "    var.pop(0)\n",
    "    return len(var)\n",
    "\n",
    "vc = []\n",
    "for i in all_df:\n",
    "    vc.append(var_count(i))\n",
    "\n",
    "topics = ['Population and Household', 'Natural Environment', 'Labor', 'Economic Base', 'Administrative Base', 'Education', 'Culture and Sports', 'Health and Medical Care', 'Welfare and Social Security', 'Safety', 'Family Budget', 'Daily Time Usage', 'Dwelling']\n",
    "\n",
    "varcount_df = pd.DataFrame(list(zip(topics, vc)), columns =['Name', 'Variables'])\n",
    "varcount_df.sort_values(by='Variables',ascending=False).plot(x='Name', y='Variables', kind='barh', legend=False)\n",
    "plt.xlabel('Number of Variables')\n",
    "plt.ylabel('')\n",
    "plt.title('Distribution of Variables by Social Indicator Topics')"
   ]
  },
  {
   "cell_type": "markdown",
   "metadata": {},
   "source": [
    "## Functions to Process Data"
   ]
  },
  {
   "cell_type": "code",
   "execution_count": 19,
   "metadata": {},
   "outputs": [],
   "source": [
    "def process_df(df):\n",
    "    df.drop(df.loc[df['Prefecture', 'Unnamed: 0_level_1'] == 'All Japan'].index, inplace=True)\n",
    "    df.sort_values([('Prefecture', 'Unnamed: 0_level_1')], ascending=True, inplace=True)\n",
    "    df['MMA', 'Unnamed: 0_level_1'] = df['Prefecture', 'Unnamed: 0_level_1'].map(MMA)\n",
    "    #df.columns[] = map(str.lower, df.columns)\n",
    "    \n",
    "    #Add to combined?\n",
    "    df['gpkg_key', 'Unnamed: 0_level_1'] = ['Aichi', 'Akita', 'Aomori', 'Chiba', 'Ehime', 'Fukui', 'Fukuoka', 'Fukushima', 'Gifu', 'Gunma', \n",
    "                      'Hiroshima', 'Hokkaido', 'Hyago', 'Ibaraki', 'Ishikawa','Iwate', 'Kagawa', 'Kagoshima', 'Kanagawa',\n",
    "                      'Kochi', 'Kumamoto', 'Kyoto', 'Mie', 'Miyagi', 'Miyazaki', 'Nagano', 'Naoasaki', 'Nara', 'Niigata',\n",
    "                      'Oita', 'Okayama', 'Okinawa', 'Osaka', 'Saga', 'Saitama', 'Shiga','Shimane', 'Shizuoka', 'Tochigi',\n",
    "                      'Tokushima', 'Tokyo', 'Tottori', 'Toyama', 'Wakayama', 'Yamagata', 'Yamaguchi', 'Yamanashi']"
   ]
  },
  {
   "cell_type": "code",
   "execution_count": 20,
   "metadata": {},
   "outputs": [],
   "source": [
    "# Only Keep the Values that are the same\n",
    "\n",
    "def drop_values(df15, df10):\n",
    "    var_1 = list(df15.columns.get_level_values(0).unique())\n",
    "    var_2 = list(df10.columns.get_level_values(0).unique())\n",
    "    diff = set(var_1) ^ set(var_2)\n",
    "\n",
    "    diff15 = list(set(var_1) & set(diff))\n",
    "    not_in_2010= []\n",
    "    for val in diff15:\n",
    "        not_in_2010.append((val, '2015'))\n",
    "\n",
    "    diff10 = list(set(var_2) & set(diff))\n",
    "    not_in_2015= []\n",
    "    for val in diff10:\n",
    "        not_in_2015.append((val, '2010'))\n",
    "\n",
    "    df15 = df15.drop(not_in_2010, axis=1)\n",
    "    df10 = df10.drop(not_in_2015, axis=1)\n",
    "    \n",
    "    return (df15, df10)"
   ]
  },
  {
   "cell_type": "code",
   "execution_count": 21,
   "metadata": {},
   "outputs": [],
   "source": [
    "def combine_process(df_list, df15_file, df10_file):\n",
    "    comb_df = reduce(lambda left, right: pd.merge(left, right, on=[('Prefecture', 'Unnamed: 0_level_1')], left_index=True, right_index=True, how='outer'), df_list)\n",
    "    process_df(comb_df)\n",
    "\n",
    "    df_15 = comb_df[[i for i in comb_df.columns if i[1] == '2015' or i[1] == 'Unnamed: 0_level_1']]\n",
    "    df_10 = comb_df[[i for i in comb_df.columns if i[1] == '2010' or i[1] == 'Unnamed: 0_level_1']]\n",
    "    \n",
    "    df15, df10 = drop_values(df_15, df_10)\n",
    "    \n",
    "    #Save Files\n",
    "    file_15 = r\"C:\\Users\\Dhruval\\Documents\\MACSS\\MA Thesis\\Aging in Japan\\Data\\\\ \" + df15_file + '.csv'\n",
    "    df15.to_csv(file_15, index=False)\n",
    "    \n",
    "    file_10 = r\"C:\\Users\\Dhruval\\Documents\\MACSS\\MA Thesis\\Aging in Japan\\Data\\\\ \" + df10_file + '.csv'\n",
    "    df10.to_csv(file_10, index=False)"
   ]
  },
  {
   "cell_type": "code",
   "execution_count": 22,
   "metadata": {},
   "outputs": [],
   "source": [
    "def re_process(csv_15, csv_10, df15_file, df10_file):\n",
    "    df_2015 = pd.read_csv(r\"C:\\Users\\Dhruval\\Documents\\MACSS\\MA Thesis\\Aging in Japan\\Data\\\\ \" + csv_15 + '.csv')\n",
    "    df_2010 = pd.read_csv(r\"C:\\Users\\Dhruval\\Documents\\MACSS\\MA Thesis\\Aging in Japan\\Data\\\\ \" + csv_10 + '.csv')\n",
    "\n",
    "\n",
    "    df_2015 = df_2015.drop(df_2015.index[0])\n",
    "    df_2015.columns = df_2015.columns.str.replace('\\n',' ').str.strip().str.lower()\n",
    "    df_2015 = df_2015.add_suffix(' 2015')\n",
    "\n",
    "    df_2010 = df_2015.drop(df_2015.index[0])\n",
    "    df_2010.columns = df_2015.columns.str.replace('\\n',' ').str.strip().str.lower()\n",
    "    df_2010 = df_2015.add_suffix(' 2010')\n",
    "    \n",
    "    #os.remove('old.txt')\n",
    "\n",
    "    #Save Files\n",
    "    file_15 = r\"C:\\Users\\Dhruval\\Documents\\MACSS\\MA Thesis\\Aging in Japan\\Data\\\\ \" + df15_file + '.csv'\n",
    "    df_2015.to_csv(file_15, index=False)\n",
    "    \n",
    "    file_10 = r\"C:\\Users\\Dhruval\\Documents\\MACSS\\MA Thesis\\Aging in Japan\\Data\\\\ \" + df10_file + '.csv'\n",
    "    df_2010.to_csv(file_10, index=False)"
   ]
  },
  {
   "cell_type": "markdown",
   "metadata": {},
   "source": [
    "## Clean and Process Data"
   ]
  },
  {
   "cell_type": "code",
   "execution_count": 23,
   "metadata": {},
   "outputs": [],
   "source": [
    "#Create Population DataFrame\n",
    "\n",
    "combine_process([pop_df], 'pop_df15_del', 'pop_df10_del')\n",
    "re_process('pop_df15_del', 'pop_df10_del', 'pop_df15', 'pop_df10')"
   ]
  },
  {
   "cell_type": "code",
   "execution_count": 24,
   "metadata": {},
   "outputs": [],
   "source": [
    "#Create All Combined DataFrame\n",
    "\n",
    "combine_process(all_df, 'comb_df15_del', 'comb_df10_del')\n",
    "re_process('comb_df15_del', 'comb_df10_del', 'comb_df15', 'comb_df10')"
   ]
  },
  {
   "cell_type": "markdown",
   "metadata": {},
   "source": [
    "## Final Variable Distribution"
   ]
  },
  {
   "cell_type": "code",
   "execution_count": 25,
   "metadata": {},
   "outputs": [],
   "source": [
    "csv_15 = 'comb_df15'\n",
    "comb_df2015 = pd.read_csv(r\"C:\\Users\\Dhruval\\Documents\\MACSS\\MA Thesis\\Aging in Japan\\Data\\\\ \" + csv_15 + '.csv')\n",
    "\n",
    "csv_10 = 'comb_df10'\n",
    "comb_df2010 = pd.read_csv(r\"C:\\Users\\Dhruval\\Documents\\MACSS\\MA Thesis\\Aging in Japan\\Data\\\\ \" + csv_10 + '.csv')"
   ]
  }
 ],
 "metadata": {
  "kernelspec": {
   "display_name": "Python 3",
   "language": "python",
   "name": "python3"
  },
  "language_info": {
   "codemirror_mode": {
    "name": "ipython",
    "version": 3
   },
   "file_extension": ".py",
   "mimetype": "text/x-python",
   "name": "python",
   "nbconvert_exporter": "python",
   "pygments_lexer": "ipython3",
   "version": "3.7.0"
  }
 },
 "nbformat": 4,
 "nbformat_minor": 2
}
